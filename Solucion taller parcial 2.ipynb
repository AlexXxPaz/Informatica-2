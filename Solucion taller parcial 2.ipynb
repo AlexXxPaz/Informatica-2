{
 "cells": [
  {
   "cell_type": "markdown",
   "metadata": {},
   "source": [
    "<p align=\"center\"><img alt=\"udeA logo\" height=\"150px\" src=\"https://github.com/freddyduitama/images/blob/master/logo.png?raw=true\"></p><h1><font color='0B5345'> <center>\n",
    "\n",
    "Informática II\n",
    "\n",
    " </center></font></h1>\n",
    "<h2><font color='0B5345'> <center>\n",
    "Taller parcial II: Computación numérica</center></font></h2>\n",
    "<font  face=\"Courier New\" size=\"3\">\n",
    "\n",
    "<p3><center><b><font color='0B5345' face=\"Lucida Calligraphy,Comic Sans MS,Lucida Console\" size=\"5\">Universidad de Antioquia - Bioingeniería</font></b> </center></p3>"
   ]
  },
  {
   "cell_type": "markdown",
   "metadata": {},
   "source": [
    "### OBJETIVO\n",
    "Introducir al estudiante en las técnicas de computación numérica en python, por medio del uso de librerias como numpy, matplotlib, pandas y scipy, para la carga, gestión y visualización de datos en python."
   ]
  },
  {
   "cell_type": "markdown",
   "metadata": {},
   "source": [
    "### Ejercicio 1: Construcción de señales y[n] y y2[n]\n",
    "\n",
    "1. **Construcción de y[n]:**\n",
    "   - Utilizando la fórmula `y[n] = sin(π0.12n)`, construya la señal (y[n]) en el intervalo `(0 < n < 100)`."
   ]
  },
  {
   "cell_type": "code",
   "execution_count": null,
   "metadata": {},
   "outputs": [],
   "source": [
    "import numpy as np\n",
    "import matplotlib.pyplot as plt\n",
    "\n",
    "# Generar los valores de n\n",
    "n = np.arange(1, 101)\n",
    "\n",
    "# Calcular y[n]\n",
    "y = np.sin(np.pi * 0.12 * n)\n",
    "\n",
    "# Crear el gráfico\n",
    "plt.figure(figsize=(15, 4))\n",
    "plt.stem(n, y)\n",
    "plt.title('Señal y[n] = sin(π0.12n)')\n",
    "plt.xlabel('n')\n",
    "plt.ylabel('y[n]')\n",
    "plt.grid(True)\n",
    "plt.show()\n"
   ]
  },
  {
   "cell_type": "markdown",
   "metadata": {},
   "source": [
    "2. **Construcción de y2[n]:**\n",
    "   - Utilizando la fórmula `y2[n] = cos(π0.03n)`, construya la señal y2[n] en el mismo intervalo."
   ]
  },
  {
   "cell_type": "code",
   "execution_count": null,
   "metadata": {},
   "outputs": [],
   "source": [
    "import numpy as np\n",
    "import matplotlib.pyplot as plt\n",
    "\n",
    "# Generar los valores de n\n",
    "n = np.arange(1, 101)\n",
    "\n",
    "# Calcular y[n]\n",
    "y = np.cos(np.pi * 0.03 * n)\n",
    "\n",
    "# Crear el gráfico\n",
    "plt.figure(figsize=(15, 4))\n",
    "plt.stem(n, y)\n",
    "plt.title('Señal y[n] = sin(π0.12n)')\n",
    "plt.xlabel('n')\n",
    "plt.ylabel('y[n]')\n",
    "plt.grid(True)\n",
    "plt.show()"
   ]
  },
  {
   "cell_type": "markdown",
   "metadata": {},
   "source": [
    "3. **Gráfica de y[n] y y2[n]:**\n",
    "   - Grafique las señales `y[n]` y `y2[n]` en la misma figura.\n",
    "   - Utilice colores diferentes y añada una leyenda para cada señal.\n",
    "   - Asigne un título a los ejes."
   ]
  },
  {
   "cell_type": "code",
   "execution_count": null,
   "metadata": {},
   "outputs": [],
   "source": [
    "import numpy as np\n",
    "import matplotlib.pyplot as plt\n",
    "\n",
    "# Generar los valores de n\n",
    "n = np.arange(1, 101)\n",
    "\n",
    "# Calcular y[n] y y2[n]\n",
    "y = np.sin(np.pi * 0.12 * n)\n",
    "y2 = np.cos(np.pi * 0.03 * n)\n",
    "\n",
    "# Crear el gráfico\n",
    "plt.figure(figsize=(15, 4))\n",
    "plt.plot(n, y, label='y[n] = sin(π0.12n)', color='blue')\n",
    "plt.plot(n, y2, label='y2[n] = cos(π0.03n)', color='red')\n",
    "plt.title('Señales y[n] y y2[n]')\n",
    "plt.xlabel('n')\n",
    "plt.ylabel('Valor')\n",
    "plt.legend()\n",
    "plt.grid(True)\n",
    "plt.show()"
   ]
  },
  {
   "cell_type": "markdown",
   "metadata": {},
   "source": [
    "### Ejercicio 2: Construcción de s[n] y t[n]\n",
    "\n",
    "1. **Construcción de s[n]:**\n",
    "   - Defina `s[n] = y[n] + y2[n]` y construya esta señal a partir de las señales `y[n]` e `y2[n]` generadas en el ejemplo anterior."
   ]
  },
  {
   "cell_type": "code",
   "execution_count": null,
   "metadata": {},
   "outputs": [],
   "source": [
    "import numpy as np\n",
    "import matplotlib.pyplot as plt\n",
    "\n",
    "# Generar los valores de n\n",
    "n = np.arange(1, 101)\n",
    "\n",
    "# Calcular y[n] y y2[n]\n",
    "y = np.sin(np.pi * 0.12 * n)\n",
    "y2 = np.cos(np.pi * 0.03 * n)\n",
    "\n",
    "# Calcular s[n]\n",
    "s = y + y2\n",
    "\n",
    "# Crear el gráfico\n",
    "plt.figure(figsize=(15, 4))\n",
    "plt.plot(n, s, label='s[n] = y[n] + y2[n]', color='green')\n",
    "plt.title('Señal s[n] = y[n] + y2[n]')\n",
    "plt.xlabel('n')\n",
    "plt.ylabel('s[n]')\n",
    "plt.legend()\n",
    "plt.grid(True)\n",
    "plt.show()\n",
    "\n"
   ]
  },
  {
   "cell_type": "markdown",
   "metadata": {},
   "source": [
    "2. **Construcción de t[n]:**\n",
    "   - Defina `t[n] = y[n] * y2[n]` y construya esta señal también a partir de las señales `y[n] e `y2[n]` generadas previamente."
   ]
  },
  {
   "cell_type": "code",
   "execution_count": null,
   "metadata": {},
   "outputs": [],
   "source": [
    "import numpy as np\n",
    "import matplotlib.pyplot as plt\n",
    "\n",
    "# Generar los valores de n\n",
    "n = np.arange(1, 101)\n",
    "\n",
    "# Calcular y[n] y y2[n]\n",
    "y = np.sin(np.pi * 0.12 * n)\n",
    "y2 = np.cos(np.pi * 0.03 * n)\n",
    "\n",
    "# Calcular t[n]\n",
    "t = y * y2\n",
    "\n",
    "# Crear el gráfico\n",
    "plt.figure(figsize=(15, 4))\n",
    "plt.plot(n, t, label='t[n] = y[n] + y2[n]', color='green')\n",
    "plt.title('Señal t[n] = y[n] * y2[n]')\n",
    "plt.xlabel('n')\n",
    "plt.ylabel('t[n]')\n",
    "plt.legend()\n",
    "plt.grid(True)\n",
    "plt.show()\n"
   ]
  },
  {
   "cell_type": "markdown",
   "metadata": {},
   "source": [
    "3. **Gráfica de s[n] y t[n]:**\n",
    "   - Grafique las señales `s[n]` y `t[n]` en la misma figura.\n",
    "   - Utilice colores diferentes y añada una leyenda para cada señal.\n",
    "   - Asigne un título a los ejes."
   ]
  },
  {
   "cell_type": "code",
   "execution_count": null,
   "metadata": {},
   "outputs": [],
   "source": [
    "import numpy as np\n",
    "import matplotlib.pyplot as plt\n",
    "\n",
    "# Generar los valores de n\n",
    "n = np.arange(1, 101)\n",
    "\n",
    "# Calcular y[n] y y2[n]\n",
    "y = np.sin(np.pi * 0.12 * n)\n",
    "y2 = np.cos(np.pi * 0.03 * n)\n",
    "\n",
    "# Calcular s[n] y t[n]\n",
    "s = y + y2\n",
    "t = y * y2\n",
    "\n",
    "# Crear el gráfico\n",
    "plt.figure(figsize=(10, 4))\n",
    "plt.plot(n, s, label='s[n] = y[n] + y2[n]', color='green')\n",
    "plt.plot(n, t, label='t[n] = y[n] * y2[n]', color='purple')\n",
    "plt.title('Señales s[n] y t[n]')\n",
    "plt.xlabel('n')\n",
    "plt.ylabel('Valor')\n",
    "plt.legend()\n",
    "plt.grid(True)\n",
    "plt.show()"
   ]
  },
  {
   "cell_type": "markdown",
   "metadata": {},
   "source": [
    "### Ejercicio 3: Manipulación de Matrices\n",
    "\n",
    "En este ejercicio, crearás una clase llamada `MatrixOperations` que contendrá métodos para realizar varias operaciones con matrices. Además, implementarás métodos para generar diferentes tipos de matrices, como un tablero de ajedrez y una matriz con una cruz en el centro.\n",
    "\n",
    "Aquí están los requerimientos detallados:\n",
    "\n",
    "1. **Creación de Matrices Aleatorias:**\n",
    "   - Crea una clase llamada `MatrixOperations`.\n",
    "   - Esta clase debe tener un constructor que acepte un argumento opcional `seed` para inicializar la semilla del generador de números aleatorios. Si no se proporciona `seed`, debe utilizar un valor predeterminado de 42.\n",
    "   - Debe tener un método llamado `randomMatrices` que cree dos matrices aleatorias con dimensiones 3x3 y 5x2 respectivamente. Los valores de las matrices deben estar en el rango de 1 a 10."
   ]
  },
  {
   "cell_type": "code",
   "execution_count": 4,
   "metadata": {},
   "outputs": [
    {
     "name": "stdout",
     "output_type": "stream",
     "text": [
      "Matriz 3x3:\n",
      "[[ 7 10  3]\n",
      " [ 1  4  8]\n",
      " [ 6  8 10]]\n",
      "\n",
      "Matriz 5x2:\n",
      "[[ 9  4]\n",
      " [ 6  2]\n",
      " [10  8]\n",
      " [ 8 10]\n",
      " [10  9]]\n"
     ]
    }
   ],
   "source": [
    "import random\n",
    "import numpy as np\n",
    "\n",
    "class MatrixOperations:\n",
    "    def __init__(self, seed=42):\n",
    "        self.seed = seed\n",
    "        random.seed(self.seed)\n",
    "\n",
    "    def randomMatrices(self):\n",
    "        matrix1 = np.random.randint(1, 11, size=(3, 3))\n",
    "        matrix2 = np.random.randint(1, 11, size=(5, 2))\n",
    "        return matrix1, matrix2\n",
    "\n",
    "# Crear una instancia de la clase\n",
    "matrix_operations = MatrixOperations()\n",
    "\n",
    "# Generar las matrices aleatorias\n",
    "matrix1, matrix2 = matrix_operations.randomMatrices()\n",
    "\n",
    "print(\"Matriz 3x3:\")\n",
    "print(matrix1)\n",
    "print(\"\\nMatriz 5x2:\")\n",
    "print(matrix2)"
   ]
  },
  {
   "cell_type": "code",
   "execution_count": 6,
   "metadata": {},
   "outputs": [
    {
     "name": "stdout",
     "output_type": "stream",
     "text": [
      "Matriz 3x3:\n",
      "[[3 3 1]\n",
      " [8 5 3]\n",
      " [6 6 8]]\n",
      "\n",
      "Matriz 5x2:\n",
      "[[8 6]\n",
      " [3 1]\n",
      " [4 5]\n",
      " [1 5]\n",
      " [7 8]]\n"
     ]
    }
   ],
   "source": [
    "# Crear una instancia de la clase sin proporcionar un valor para 'seed'\n",
    "matrix_operations = MatrixOperations()\n",
    "\n",
    "# Generar las matrices aleatorias\n",
    "matrix1, matrix2 = matrix_operations.randomMatrices()\n",
    "\n",
    "print(\"Matriz 3x3:\")\n",
    "print(matrix1)\n",
    "print(\"\\nMatriz 5x2:\")\n",
    "print(matrix2)"
   ]
  },
  {
   "cell_type": "markdown",
   "metadata": {},
   "source": [
    "2. **Operaciones entre Matrices:**\n",
    "   - Implementa métodos para realizar las siguientes operaciones entre matrices:\n",
    "     - Suma\n",
    "     - Resta\n",
    "     - Multiplicación\n",
    "   - Asegúrate de manejar adecuadamente las operaciones entre matrices de diferentes dimensiones, si es necesario."
   ]
  },
  {
   "cell_type": "code",
   "execution_count": null,
   "metadata": {},
   "outputs": [],
   "source": [
    "import numpy as np\n",
    "\n",
    "class MatrixOperations:\n",
    "    def randomMatrices(self):\n",
    "        matrix1 = np.random.randint(1, 11, size=(3, 3))\n",
    "        matrix2 = np.random.randint(1, 11, size=(3, 3))\n",
    "        return matrix1, matrix2\n",
    "\n",
    "    def add(self, matrix1, matrix2):\n",
    "        if matrix1.shape != matrix2.shape:\n",
    "            raise ValueError(\"Las matrices deben tener las mismas dimensiones para la suma.\")\n",
    "        return np.add(matrix1, matrix2)\n",
    "\n",
    "    def subtract(self, matrix1, matrix2):\n",
    "        if matrix1.shape != matrix2.shape:\n",
    "            raise ValueError(\"Las matrices deben tener las mismas dimensiones para la resta.\")\n",
    "        return np.subtract(matrix1, matrix2)\n",
    "\n",
    "    def multiply(self, matrix1, matrix2):\n",
    "        if matrix1.shape[1] != matrix2.shape[0]:\n",
    "            raise ValueError(\"El número de columnas de la primera matriz debe ser igual al número de filas de la segunda matriz para la multiplicación.\")\n",
    "        return np.dot(matrix1, matrix2)\n",
    "\n",
    "# Crear una instancia de la clase\n",
    "matrix_operations = MatrixOperations()\n",
    "\n",
    "# Generar las matrices aleatorias\n",
    "matrix1, matrix2 = matrix_operations.randomMatrices()\n",
    "\n",
    "# Realizar operaciones entre matrices\n",
    "print(\"Suma de matrices:\")\n",
    "print(matrix_operations.add(matrix1, matrix2))\n",
    "print(\"\\nResta de matrices:\")\n",
    "print(matrix_operations.subtract(matrix1, matrix2))\n",
    "print(\"\\nMultiplicación de matrices:\")\n",
    "print(matrix_operations.multiply(matrix1, matrix2))"
   ]
  },
  {
   "cell_type": "markdown",
   "metadata": {},
   "source": [
    "3. **Tablero de Ajedrez:**\n",
    "   - Crea un método llamado `chessBoard` que genere un tablero de ajedrez con dimensiones de 8x8.\n",
    "   - Utiliza el carácter '#' para representar las casillas blancas y '.' para las casillas negras. Las casillas deben alternar entre blanco y negro."
   ]
  },
  {
   "cell_type": "code",
   "execution_count": null,
   "metadata": {},
   "outputs": [],
   "source": [
    "import numpy as np\n",
    "\n",
    "class MatrixOperations:\n",
    "    def chessBoard(self):\n",
    "        board = np.zeros((8, 8), dtype=str)\n",
    "        board[::2, ::2] = '#'\n",
    "        board[1::2, 1::2] = '#'\n",
    "        board[board == ''] = '.'\n",
    "        return board\n",
    "\n",
    "# Crear una instancia de la clase\n",
    "matrix_operations = MatrixOperations()\n",
    "\n",
    "# Generar el tablero de ajedrez\n",
    "chess_board = matrix_operations.chessBoard()\n",
    "\n",
    "print(\"Tablero de Ajedrez:\")\n",
    "print('\\n'.join([''.join(row) for row in chess_board]))"
   ]
  },
  {
   "cell_type": "markdown",
   "metadata": {},
   "source": [
    "4. **Matriz con Cruz:**\n",
    "   - Implementa un método llamado `matrizCruz` que tome como argumento el tamaño de la matriz y devuelva una matriz cuadrada con una cruz de unos en el centro y ceros en el resto de las posiciones."
   ]
  },
  {
   "cell_type": "code",
   "execution_count": null,
   "metadata": {},
   "outputs": [],
   "source": [
    "import numpy as np\n",
    "\n",
    "class MatrixOperations:\n",
    "    def matrizCruz(self, size):\n",
    "        # Crear una matriz de ceros\n",
    "        matrix = np.zeros((size, size), dtype=int)\n",
    "        \n",
    "        # Crear una cruz de unos en el centro\n",
    "        center = size // 2\n",
    "        matrix[center, :] = 1\n",
    "        matrix[:, center] = 1\n",
    "\n",
    "        return matrix\n",
    "\n",
    "# Crear una instancia de la clase\n",
    "matrix_operations = MatrixOperations()\n",
    "\n",
    "# Generar la matriz con cruz\n",
    "cross_matrix = matrix_operations.matrizCruz(5)\n",
    "\n",
    "print(\"Matriz con Cruz:\")\n",
    "print(cross_matrix)"
   ]
  },
  {
   "cell_type": "markdown",
   "metadata": {},
   "source": [
    "5. **Matriz con Diagonal Aleatoria:**\n",
    "   - Crea un método llamado `matrizDiagonal` que genere una matriz cuadrada con dimensiones nxn.\n",
    "   - Los valores en la diagonal principal deben ser aleatorios en el rango de 1 a 10, y todas las demás posiciones deben ser cero."
   ]
  },
  {
   "cell_type": "code",
   "execution_count": null,
   "metadata": {},
   "outputs": [],
   "source": [
    "import numpy as np\n",
    "\n",
    "class MatrixOperations:\n",
    "    def matrizDiagonal(self, size):\n",
    "        # Crear una matriz de ceros\n",
    "        matrix = np.zeros((size, size), dtype=int)\n",
    "        \n",
    "        # Crear una diagonal aleatoria en el rango de 1 a 10\n",
    "        np.fill_diagonal(matrix, np.random.randint(1, 11, size))\n",
    "\n",
    "        return matrix\n",
    "\n",
    "# Crear una instancia de la clase\n",
    "matrix_operations = MatrixOperations()\n",
    "\n",
    "# Generar la matriz con diagonal aleatoria\n",
    "diagonal_matrix = matrix_operations.matrizDiagonal(5)\n",
    "\n",
    "print(\"Matriz con Diagonal Aleatoria:\")\n",
    "print(diagonal_matrix)"
   ]
  },
  {
   "cell_type": "markdown",
   "metadata": {},
   "source": [
    "### Ejercicio 4: Gráficos\n",
    "\n",
    "1. **Gráfico de notas de un curso:**\n",
    "- Crea una función que reciba como argumentos un diccionario con las notas de las asignaturas de un curso y un color para la visualización, y devuelva un diagrama de barras que represente visualmente las notas en el color especificado. Para ello, se debe importar la librería matplotlib y definir una función llamada grafico_barras_notas que acepte dos argumentos: notas (un diccionario de asignaturas y sus respectivas notas) y color (una cadena que representa un color válido en Matplotlib). Utilice matplotlib para crear el gráfico de barras donde las asignaturas se encuentren en el eje X y las notas en el eje Y. Asigne el color especificado al gráfico de barras y añade un título descriptivo, así como etiquetas adecuadas para los ejes X e Y. Finalmente, muestre el gráfico."
   ]
  },
  {
   "cell_type": "code",
   "execution_count": 79,
   "metadata": {},
   "outputs": [],
   "source": [
    "import matplotlib.pyplot as plt\n",
    "\n",
    "def grafico_barras_notas(notas, color):\n",
    "    # Extraer las asignaturas y las notas del diccionario\n",
    "    asignaturas = list(notas.keys())\n",
    "    notas_asignaturas = list(notas.values())\n",
    "\n",
    "    # Crear el gráfico de barras\n",
    "    plt.bar(asignaturas, notas_asignaturas, color=color)\n",
    "\n",
    "    # Añadir título y etiquetas para los ejes\n",
    "    plt.title('Gráfico de notas del curso')\n",
    "    plt.xlabel('Asignaturas')\n",
    "    plt.ylabel('Notas')\n",
    "\n",
    "    # Mostrar el gráfico\n",
    "    plt.show()"
   ]
  },
  {
   "cell_type": "code",
   "execution_count": 80,
   "metadata": {},
   "outputs": [
    {
     "data": {
      "image/png": "[encoded data removed]",
      "text/plain": [
       "<Figure size 640x480 with 1 Axes>"
      ]
     },
     "metadata": {},
     "output_type": "display_data"
    }
   ],
   "source": [
    "notas_curso = {\n",
    "    'Matemáticas': 85,\n",
    "    'Español': 90,\n",
    "    'Ciencias': 95,\n",
    "    'Historia': 88\n",
    "}\n",
    "\n",
    "grafico_barras_notas(notas_curso, 'blue')"
   ]
  },
  {
   "cell_type": "markdown",
   "metadata": {},
   "source": [
    "2. **Gráfico de Dispersión de Puntuaciones de Pruebas con Pandas:**\n",
    "- Escribe una función que tome un DataFrame de pandas con las puntuaciones de dos pruebas (por ejemplo, una prueba de matemáticas y una prueba de ciencias) para un grupo de estudiantes y devuelva un gráfico de dispersión que muestre la relación entre las puntuaciones en ambos ejes. Para realizar esta tarea, es necesario importar las librerías pandas y matplotlib. Define una función llamada grafico_dispersión_puntuaciones que acepte tres argumentos: puntuaciones_df (un DataFrame de pandas con los nombres de los estudiantes como índices y sus puntuaciones en matemáticas y ciencias como columnas), color (una cadena que representa un color válido en Matplotlib) y tamaño_puntos (un valor numérico que controla el tamaño de los puntos en el gráfico de dispersión).\n",
    "\n",
    "- Utiliza matplotlib y pandas para crear un gráfico de dispersión donde las puntuaciones de matemáticas se encuentren en el eje X y las puntuaciones de ciencias en el eje Y. Asigna el color especificado a los puntos y añade un título descriptivo, así como etiquetas adecuadas para los ejes X e Y. Controla el tamaño de los puntos con el parámetro s de la función scatter. Finalmente, muestra el gráfico."
   ]
  },
  {
   "cell_type": "code",
   "execution_count": 82,
   "metadata": {},
   "outputs": [],
   "source": [
    "import pandas as pd\n",
    "import matplotlib.pyplot as plt\n",
    "\n",
    "def grafico_dispersión_puntuaciones(puntuaciones_df, color, tamaño_puntos):\n",
    "    # Extraer las puntuaciones de las pruebas del DataFrame\n",
    "    puntuaciones_matematicas = puntuaciones_df['Matemáticas']\n",
    "    puntuaciones_ciencias = puntuaciones_df['Ciencias']\n",
    "\n",
    "    # Crear el gráfico de dispersión\n",
    "    plt.scatter(puntuaciones_matematicas, puntuaciones_ciencias, color=color, s=tamaño_puntos)\n",
    "\n",
    "    # Añadir título y etiquetas para los ejes\n",
    "    plt.title('Gráfico de Dispersión de Puntuaciones de Pruebas')\n",
    "    plt.xlabel('Puntuaciones de Matemáticas')\n",
    "    plt.ylabel('Puntuaciones de Ciencias')\n",
    "\n",
    "    # Mostrar el gráfico\n",
    "    plt.show()"
   ]
  },
  {
   "cell_type": "code",
   "execution_count": 89,
   "metadata": {},
   "outputs": [
    {
     "data": {
      "image/png": "[encoded data removed]",
      "text/plain": [
       "<Figure size 640x480 with 1 Axes>"
      ]
     },
     "metadata": {},
     "output_type": "display_data"
    }
   ],
   "source": [
    "puntuaciones = {\n",
    "    'Estudiante': ['Ana', 'Luis', 'Carlos', 'Sofia'],\n",
    "    'Matemáticas': [85, 90, 78, 92],\n",
    "    'Ciencias': [80, 88, 82, 95]\n",
    "}\n",
    "\n",
    "puntuaciones_df = pd.DataFrame(puntuaciones)\n",
    "puntuaciones_df = puntuaciones_df.set_index('Estudiante')\n",
    "\n",
    "grafico_dispersión_puntuaciones(puntuaciones_df, 'red', 100)"
   ]
  },
  {
   "cell_type": "markdown",
   "metadata": {},
   "source": [
    "### Ejercicio 5: Gestión de datos\n",
    "1. **Ventas mensuales**\n",
    "\n",
    "- Escribe una función que tome un DataFrame de pandas con las ventas mensuales de un negocio y devuelva una serie que contenga el total de ventas, la media mensual, la desviación estándar y el mes con la mayor cantidad de ventas. Para realizar esta tarea, es necesario importar las librerías pandas y numpy. Define una función llamada estadisticas_ventas que acepte un argumento ventas_df (un DataFrame de pandas con los meses como índices y las ventas como una columna etiquetada 'Ventas').\n",
    "\n",
    "- Utiliza pandas y numpy para calcular el total de ventas, la media mensual, la desviación estándar y el mes con la mayor cantidad de ventas. Devuelve los resultados como una serie etiquetada."
   ]
  },
  {
   "cell_type": "code",
   "execution_count": 1,
   "metadata": {},
   "outputs": [],
   "source": [
    "import pandas as pd\n",
    "import numpy as np\n",
    "\n",
    "def estadisticas_ventas(ventas_df):\n",
    "    # Calculate total sales\n",
    "    total_ventas = ventas_df['Ventas'].sum()\n",
    "    \n",
    "    # Calculate average monthly sales\n",
    "    media_mensual_ventas = ventas_df['Ventas'].mean()\n",
    "    \n",
    "    # Calculate standard deviation of sales\n",
    "    desviacion_estandar = ventas_df['Ventas'].std()\n",
    "    \n",
    "    # Find the month with the highest sales\n",
    "    mes_max_ventas = ventas_df['Ventas'].idxmax()\n",
    "    \n",
    "    # Create a pandas Series with the results\n",
    "    resultados = pd.Series({\n",
    "        'Total de Ventas': total_ventas,\n",
    "        'Media Mensual de Ventas': media_mensual_ventas,\n",
    "        'Desviación Estándar': desviacion_estandar,\n",
    "        'Mes con Ventas Más Altas': mes_max_ventas\n",
    "    })\n",
    "    \n",
    "    return resultados"
   ]
  },
  {
   "cell_type": "code",
   "execution_count": 2,
   "metadata": {},
   "outputs": [
    {
     "name": "stdout",
     "output_type": "stream",
     "text": [
      "Total de Ventas                   4550\n",
      "Media Mensual de Ventas     379.166667\n",
      "Desviación Estándar         187.638837\n",
      "Mes con Ventas Más Altas      December\n",
      "dtype: object\n"
     ]
    }
   ],
   "source": [
    "ventas_df = pd.DataFrame({\n",
    "    'Ventas': [100, 200, 150, 300, 250, 400, 350, 500, 450, 600, 550, 700]\n",
    "}, index=pd.date_range(start='2022-01-01', end='2022-12-01', freq='MS').month_name())\n",
    "\n",
    "print(estadisticas_ventas(ventas_df))"
   ]
  },
  {
   "cell_type": "markdown",
   "metadata": {},
   "source": [
    "2. **Organizar y filtar dataframe**\n",
    "- Tomando el archivo MMSE.csv, cree un nuevo dataframe donde el indice 0 del dataframe corresponda al sujeto de menor edad y el último indice corresponda al sujeto de mayor edad.\n",
    "- Cuente el número de celdas que no son NaN para cada columna.\n",
    "- Invierta el DataFrame, las filas serán las columnas.\n",
    "- Organice las columnas en orden alfabético.\n",
    "-  Tome las pruebas de MMSE sin incluir el total, de un sujeto, y muestre el diagrama de líneas con las siguientes propiedades de estilo:\n",
    "\n",
    "1. Estilo de línea punteado y color de línea debe ser rojo\n",
    "2. Mostrar leyenda en la ubicación inferior derecha.\n",
    "3. Nombre de etiqueta X = Prueba\n",
    "4. Nombre de etiqueta Y = Resultado\n",
    "5. Añade un marcador de círculo.\n",
    "6. El ancho de línea debe ser 3\n",
    "\n",
    "- Lea los datos del total del MMSE y muéstrelos mediante un gráfico circular.\n",
    "-  Imprima el indice de los sujetos que tengan la misma edad y compare los valores del total en cada caso."
   ]
  },
  {
   "cell_type": "markdown",
   "metadata": {},
   "source": [
    "### Ejercicio 6: Manipulación de señales\n",
    "\n",
    "1. **Manejo de señales con scipy**\n",
    "\n",
    "- Cargue el archivo [senales_potencial.mat](https://github.com/IsabellaAriza99/Info-2/blob/main/Unidad%202/Taller/senales_potencial.mat) con la librería scipy, inspeccione el tipo de datos que contiene el archivo e ingrese a las columnas que contienen los datos, en este caso serán dos. Una vez cargados los datos e identificado el contenido proceda a ver el tamaño, la forma y las dimensiones de cada una de las señales para posteriormente transformarla en una señal continua. \n",
    "\n",
    "- Adicionalmente especifique la cantidad de sensores que se utilizaron para adquierir la señal, el número de puntos de épocas de cada una.\n",
    "\n",
    "Cree una clase llamada analisisSenal que realice las siguientes operaciones:\n",
    "\n",
    "- Cargue una señal desde un archivo .mat.\n",
    "- Encuentre el valor máximo y su posición en la señal de uno de los sensores, con el método puede seleccionar que sensor de la señal va a utilizar.\n",
    "- Grafique las dos señales en una misma figura y añada labels para diferenciarlas, así como un título y nombre de los ejes.(Las gráficas deben tener título, nombres de los ejes y color asignado). Use la forma explícita de matplotlib.\n",
    "    - En el gráfico las señales deben estar en un intervalo donde se vea el valor maximo y con una flecha indique su ubicación y escriba el valor dentro de la gráfica.\n",
    "    - Realice un subplot de los histogramas de las señales con etiquetas de medidas de tendencia central (promedio y mediana), para ambas señales."
   ]
  }
 ],
 "metadata": {
  "kernelspec": {
   "display_name": "Python 3",
   "language": "python",
   "name": "python3"
  },
  "language_info": {
   "codemirror_mode": {
    "name": "ipython",
    "version": 3
   },
   "file_extension": ".py",
   "mimetype": "text/x-python",
   "name": "python",
   "nbconvert_exporter": "python",
   "pygments_lexer": "ipython3",
   "version": "3.11.2"
  }
 },
 "nbformat": 4,
 "nbformat_minor": 2
}
