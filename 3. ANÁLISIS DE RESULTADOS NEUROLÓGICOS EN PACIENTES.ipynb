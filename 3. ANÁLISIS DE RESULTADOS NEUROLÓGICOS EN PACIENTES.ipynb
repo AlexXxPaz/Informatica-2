{
 "cells": [
  {
   "cell_type": "code",
   "execution_count": 7,
   "metadata": {},
   "outputs": [],
   "source": [
    "# Clase Paciente para almacenar la información de cada paciente\n",
    "class Paciente:\n",
    "    def __init__(self, nombre, edad, resultadosPruebas):\n",
    "        self.nombre = nombre\n",
    "        self.edad = edad\n",
    "        self.resultadosPruebas = resultadosPruebas\n",
    "\n",
    "    # Método para calcular el promedio de los resultados de las pruebas\n",
    "    def calcularPromedio(self):\n",
    "        return sum(self.resultadosPruebas) / len(self.resultadosPruebas)\n",
    "\n",
    "    # Método para determinar si el paciente tiene un problema neurológico\n",
    "    def tieneProblemaNeurologico(self, umbral):\n",
    "        promedio = self.calcularPromedio()\n",
    "        return promedio < umbral\n",
    "\n",
    "# Función para registrar un nuevo paciente\n",
    "def registrarPaciente(nombre, edad, resultadosPruebas):\n",
    "    return Paciente(nombre, edad, resultadosPruebas)\n",
    "\n",
    "# Función para validar la existencia de un paciente en la base de datos\n",
    "def validarPaciente(paciente, listaPacientes):\n",
    "    return paciente in listaPacientes\n",
    "\n",
    "# Función para analizar todos los pacientes\n",
    "def analizarPacientes(listaPacientes, umbral):\n",
    "    for paciente in listaPacientes:\n",
    "        if validarPaciente(paciente, listaPacientes):\n",
    "            promedio = paciente.calcularPromedio()\n",
    "            problema = paciente.tieneProblemaNeurologico(umbral)\n",
    "            print(f\"Paciente: {paciente.nombre}, Promedio de Resultados: {promedio}, Problema Neurológico: {'Sí' if problema else 'No'}\")\n",
    "        else:\n",
    "            print(f\"Paciente {paciente.nombre} no encontrado en la base de datos.\")\n"
   ]
  },
  {
   "cell_type": "code",
   "execution_count": 8,
   "metadata": {},
   "outputs": [
    {
     "name": "stdout",
     "output_type": "stream",
     "text": [
      "Paciente: Juan, Promedio de Resultados: 87.66666666666667, Problema Neurológico: No\n",
      "Paciente: Ana, Promedio de Resultados: 93.66666666666667, Problema Neurológico: No\n",
      "Paciente: Carlos, Promedio de Resultados: 80.0, Problema Neurológico: Sí\n"
     ]
    }
   ],
   "source": [
    "# Crear una lista vacía para almacenar los pacientes\n",
    "listaPacientes = []\n",
    "\n",
    "# Registrar algunos pacientes\n",
    "paciente1 = registrarPaciente(\"Juan\", 45, [85, 90, 88])\n",
    "paciente2 = registrarPaciente(\"Ana\", 50, [92, 95, 94])\n",
    "paciente3 = registrarPaciente(\"Carlos\", 40, [80, 82, 78])\n",
    "\n",
    "# Añadir los pacientes a la lista\n",
    "listaPacientes.append(paciente1)\n",
    "listaPacientes.append(paciente2)\n",
    "listaPacientes.append(paciente3)\n",
    "\n",
    "# Establecer un umbral para determinar si un paciente tiene un problema neurológico\n",
    "umbral = 85\n",
    "\n",
    "# Analizar todos los pacientes\n",
    "analizarPacientes(listaPacientes, umbral)\n"
   ]
  }
 ],
 "metadata": {
  "kernelspec": {
   "display_name": "Python 3",
   "language": "python",
   "name": "python3"
  },
  "language_info": {
   "codemirror_mode": {
    "name": "ipython",
    "version": 3
   },
   "file_extension": ".py",
   "mimetype": "text/x-python",
   "name": "python",
   "nbconvert_exporter": "python",
   "pygments_lexer": "ipython3",
   "version": "3.11.2"
  }
 },
 "nbformat": 4,
 "nbformat_minor": 2
}
