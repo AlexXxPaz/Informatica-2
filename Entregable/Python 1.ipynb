{
 "cells": [
  {
   "cell_type": "code",
   "execution_count": 1,
   "metadata": {},
   "outputs": [
    {
     "name": "stdout",
     "output_type": "stream",
     "text": [
      "1658\n"
     ]
    },
    {
     "ename": "RuntimeError",
     "evalue": "The following handlers are available to decode the pixel data however they are missing required dependencies: GDCM (req. GDCM), pylibjpeg (req. )",
     "output_type": "error",
     "traceback": [
      "\u001b[1;31m---------------------------------------------------------------------------\u001b[0m",
      "\u001b[1;31mRuntimeError\u001b[0m                              Traceback (most recent call last)",
      "Cell \u001b[1;32mIn[1], line 23\u001b[0m\n\u001b[0;32m     21\u001b[0m \u001b[38;5;66;03m# Ejemplo de uso\u001b[39;00m\n\u001b[0;32m     22\u001b[0m \u001b[38;5;28mprint\u001b[39m(procesar_imagen(\u001b[38;5;124m'\u001b[39m\u001b[38;5;124mimagen.jpg\u001b[39m\u001b[38;5;124m'\u001b[39m))\n\u001b[1;32m---> 23\u001b[0m \u001b[43mvisualizar_imagenes\u001b[49m\u001b[43m(\u001b[49m\u001b[38;5;124;43m'\u001b[39;49m\u001b[38;5;124;43marchivosDCM\u001b[39;49m\u001b[38;5;124;43m'\u001b[39;49m\u001b[43m)\u001b[49m\n",
      "Cell \u001b[1;32mIn[1], line 18\u001b[0m, in \u001b[0;36mvisualizar_imagenes\u001b[1;34m(ruta_carpeta)\u001b[0m\n\u001b[0;32m     16\u001b[0m imagenes_dicom \u001b[38;5;241m=\u001b[39m [pydicom\u001b[38;5;241m.\u001b[39mdcmread(os\u001b[38;5;241m.\u001b[39mpath\u001b[38;5;241m.\u001b[39mjoin(ruta_carpeta, archivo)) \u001b[38;5;28;01mfor\u001b[39;00m archivo \u001b[38;5;129;01min\u001b[39;00m archivos \u001b[38;5;28;01mif\u001b[39;00m archivo\u001b[38;5;241m.\u001b[39mendswith(\u001b[38;5;124m'\u001b[39m\u001b[38;5;124m.dcm\u001b[39m\u001b[38;5;124m'\u001b[39m)]  \u001b[38;5;66;03m# Leer las imágenes DICOM\u001b[39;00m\n\u001b[0;32m     17\u001b[0m \u001b[38;5;28;01mfor\u001b[39;00m imagen \u001b[38;5;129;01min\u001b[39;00m imagenes_dicom:\n\u001b[1;32m---> 18\u001b[0m     plt\u001b[38;5;241m.\u001b[39mimshow(\u001b[43mimagen\u001b[49m\u001b[38;5;241;43m.\u001b[39;49m\u001b[43mpixel_array\u001b[49m, cmap\u001b[38;5;241m=\u001b[39mplt\u001b[38;5;241m.\u001b[39mcm\u001b[38;5;241m.\u001b[39mbone)  \u001b[38;5;66;03m# Mostrar la imagen\u001b[39;00m\n\u001b[0;32m     19\u001b[0m     plt\u001b[38;5;241m.\u001b[39mshow()\n",
      "File \u001b[1;32mc:\\Users\\ALEJANDRO PAZ\\AppData\\Local\\Programs\\Python\\Python311\\Lib\\site-packages\\pydicom\\dataset.py:1955\u001b[0m, in \u001b[0;36mDataset.pixel_array\u001b[1;34m(self)\u001b[0m\n\u001b[0;32m   1940\u001b[0m \u001b[38;5;129m@property\u001b[39m\n\u001b[0;32m   1941\u001b[0m \u001b[38;5;28;01mdef\u001b[39;00m \u001b[38;5;21mpixel_array\u001b[39m(\u001b[38;5;28mself\u001b[39m) \u001b[38;5;241m-\u001b[39m\u001b[38;5;241m>\u001b[39m \u001b[38;5;124m\"\u001b[39m\u001b[38;5;124mnumpy.ndarray\u001b[39m\u001b[38;5;124m\"\u001b[39m:\n\u001b[0;32m   1942\u001b[0m \u001b[38;5;250m    \u001b[39m\u001b[38;5;124;03m\"\"\"Return the pixel data as a :class:`numpy.ndarray`.\u001b[39;00m\n\u001b[0;32m   1943\u001b[0m \n\u001b[0;32m   1944\u001b[0m \u001b[38;5;124;03m    .. versionchanged:: 1.4\u001b[39;00m\n\u001b[1;32m   (...)\u001b[0m\n\u001b[0;32m   1953\u001b[0m \u001b[38;5;124;03m        :class:`numpy.ndarray`.\u001b[39;00m\n\u001b[0;32m   1954\u001b[0m \u001b[38;5;124;03m    \"\"\"\u001b[39;00m\n\u001b[1;32m-> 1955\u001b[0m     \u001b[38;5;28;43mself\u001b[39;49m\u001b[38;5;241;43m.\u001b[39;49m\u001b[43mconvert_pixel_data\u001b[49m\u001b[43m(\u001b[49m\u001b[43m)\u001b[49m\n\u001b[0;32m   1956\u001b[0m     \u001b[38;5;28;01mreturn\u001b[39;00m cast(\u001b[38;5;124m\"\u001b[39m\u001b[38;5;124mnumpy.ndarray\u001b[39m\u001b[38;5;124m\"\u001b[39m, \u001b[38;5;28mself\u001b[39m\u001b[38;5;241m.\u001b[39m_pixel_array)\n",
      "File \u001b[1;32mc:\\Users\\ALEJANDRO PAZ\\AppData\\Local\\Programs\\Python\\Python311\\Lib\\site-packages\\pydicom\\dataset.py:1512\u001b[0m, in \u001b[0;36mDataset.convert_pixel_data\u001b[1;34m(self, handler_name)\u001b[0m\n\u001b[0;32m   1510\u001b[0m     \u001b[38;5;28mself\u001b[39m\u001b[38;5;241m.\u001b[39m_convert_pixel_data_using_handler(handler_name)\n\u001b[0;32m   1511\u001b[0m \u001b[38;5;28;01melse\u001b[39;00m:\n\u001b[1;32m-> 1512\u001b[0m     \u001b[38;5;28;43mself\u001b[39;49m\u001b[38;5;241;43m.\u001b[39;49m\u001b[43m_convert_pixel_data_without_handler\u001b[49m\u001b[43m(\u001b[49m\u001b[43m)\u001b[49m\n",
      "File \u001b[1;32mc:\\Users\\ALEJANDRO PAZ\\AppData\\Local\\Programs\\Python\\Python311\\Lib\\site-packages\\pydicom\\dataset.py:1599\u001b[0m, in \u001b[0;36mDataset._convert_pixel_data_without_handler\u001b[1;34m(self)\u001b[0m\n\u001b[0;32m   1593\u001b[0m         names \u001b[38;5;241m=\u001b[39m [hh_deps[name][\u001b[38;5;241m1\u001b[39m] \u001b[38;5;28;01mfor\u001b[39;00m name \u001b[38;5;129;01min\u001b[39;00m missing]\n\u001b[0;32m   1594\u001b[0m         pkg_msg\u001b[38;5;241m.\u001b[39mappend(\n\u001b[0;32m   1595\u001b[0m             \u001b[38;5;124mf\u001b[39m\u001b[38;5;124m\"\u001b[39m\u001b[38;5;132;01m{\u001b[39;00mhh\u001b[38;5;241m.\u001b[39mHANDLER_NAME\u001b[38;5;132;01m}\u001b[39;00m\u001b[38;5;124m \u001b[39m\u001b[38;5;124m\"\u001b[39m\n\u001b[0;32m   1596\u001b[0m             \u001b[38;5;124mf\u001b[39m\u001b[38;5;124m\"\u001b[39m\u001b[38;5;124m(req. \u001b[39m\u001b[38;5;132;01m{\u001b[39;00m\u001b[38;5;124m'\u001b[39m\u001b[38;5;124m, \u001b[39m\u001b[38;5;124m'\u001b[39m\u001b[38;5;241m.\u001b[39mjoin(names)\u001b[38;5;132;01m}\u001b[39;00m\u001b[38;5;124m)\u001b[39m\u001b[38;5;124m\"\u001b[39m\n\u001b[0;32m   1597\u001b[0m         )\n\u001b[1;32m-> 1599\u001b[0m     \u001b[38;5;28;01mraise\u001b[39;00m \u001b[38;5;167;01mRuntimeError\u001b[39;00m(msg \u001b[38;5;241m+\u001b[39m \u001b[38;5;124m'\u001b[39m\u001b[38;5;124m, \u001b[39m\u001b[38;5;124m'\u001b[39m\u001b[38;5;241m.\u001b[39mjoin(pkg_msg))\n\u001b[0;32m   1601\u001b[0m last_exception \u001b[38;5;241m=\u001b[39m \u001b[38;5;28;01mNone\u001b[39;00m\n\u001b[0;32m   1602\u001b[0m \u001b[38;5;28;01mfor\u001b[39;00m handler \u001b[38;5;129;01min\u001b[39;00m available_handlers:\n",
      "\u001b[1;31mRuntimeError\u001b[0m: The following handlers are available to decode the pixel data however they are missing required dependencies: GDCM (req. GDCM), pylibjpeg (req. )"
     ]
    }
   ],
   "source": [
    "import cv2\n",
    "import os\n",
    "import pydicom\n",
    "import matplotlib.pyplot as plt\n",
    "\n",
    "# Parte 1: Procesamiento de imágenes con OpenCV\n",
    "def procesar_imagen(ruta_imagen):\n",
    "    imagen = cv2.imread(ruta_imagen, 0)  # Leer la imagen en escala de grises\n",
    "    _, imagen_bin = cv2.threshold(imagen, 127, 255, cv2.THRESH_BINARY)  # Binarizar la imagen\n",
    "    num_objetos, _ = cv2.connectedComponents(imagen_bin)  # Contar los objetos conectados\n",
    "    return num_objetos - 1  # Restar 1 para excluir el fondo\n",
    "\n",
    "# Parte 2: Visualización de imágenes DICOM con PyDICOM\n",
    "def visualizar_imagenes(ruta_carpeta):\n",
    "    archivos = sorted(os.listdir(ruta_carpeta))  # Obtener la lista de archivos y ordenarla\n",
    "    imagenes_dicom = [pydicom.dcmread(os.path.join(ruta_carpeta, archivo)) for archivo in archivos if archivo.endswith('.dcm')]  # Leer las imágenes DICOM\n",
    "    for imagen in imagenes_dicom:\n",
    "        plt.imshow(imagen.pixel_array, cmap=plt.cm.bone)  # Mostrar la imagen\n",
    "        plt.show()  # Mostrar la figura\n",
    "\n",
    "# Ejemplo de uso\n",
    "print(procesar_imagen('imagen.jpg'))\n",
    "visualizar_imagenes('archivosDCM')\n"
   ]
  }
 ],
 "metadata": {
  "kernelspec": {
   "display_name": "Python 3",
   "language": "python",
   "name": "python3"
  },
  "language_info": {
   "codemirror_mode": {
    "name": "ipython",
    "version": 3
   },
   "file_extension": ".py",
   "mimetype": "text/x-python",
   "name": "python",
   "nbconvert_exporter": "python",
   "pygments_lexer": "ipython3",
   "version": "3.11.2"
  }
 },
 "nbformat": 4,
 "nbformat_minor": 2
}
