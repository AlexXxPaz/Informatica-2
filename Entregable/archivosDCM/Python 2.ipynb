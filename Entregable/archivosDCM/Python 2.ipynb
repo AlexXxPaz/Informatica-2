{
 "cells": [
  {
   "cell_type": "code",
   "execution_count": 1,
   "metadata": {},
   "outputs": [
    {
     "ename": "FileNotFoundError",
     "evalue": "[WinError 3] El sistema no puede encontrar la ruta especificada: 'ruta/a/tu/carpeta/con/imagenes'",
     "output_type": "error",
     "traceback": [
      "\u001b[1;31m---------------------------------------------------------------------------\u001b[0m",
      "\u001b[1;31mFileNotFoundError\u001b[0m                         Traceback (most recent call last)",
      "Cell \u001b[1;32mIn[1], line 22\u001b[0m\n\u001b[0;32m     19\u001b[0m directorio_dicom \u001b[38;5;241m=\u001b[39m \u001b[38;5;124m'\u001b[39m\u001b[38;5;124mruta/a/tu/carpeta/con/imagenes\u001b[39m\u001b[38;5;124m'\u001b[39m\n\u001b[0;32m     21\u001b[0m \u001b[38;5;66;03m# Cargar y visualizar las imágenes DICOM\u001b[39;00m\n\u001b[1;32m---> 22\u001b[0m imagenes_dicom \u001b[38;5;241m=\u001b[39m \u001b[43mcargar_imagenes_dicom\u001b[49m\u001b[43m(\u001b[49m\u001b[43mdirectorio_dicom\u001b[49m\u001b[43m)\u001b[49m\n\u001b[0;32m     23\u001b[0m visualizar_imagenes_dicom(imagenes_dicom)\n",
      "Cell \u001b[1;32mIn[1], line 7\u001b[0m, in \u001b[0;36mcargar_imagenes_dicom\u001b[1;34m(directorio)\u001b[0m\n\u001b[0;32m      6\u001b[0m \u001b[38;5;28;01mdef\u001b[39;00m \u001b[38;5;21mcargar_imagenes_dicom\u001b[39m(directorio):\n\u001b[1;32m----> 7\u001b[0m     archivos_dicom \u001b[38;5;241m=\u001b[39m [archivo \u001b[38;5;28;01mfor\u001b[39;00m archivo \u001b[38;5;129;01min\u001b[39;00m \u001b[43mos\u001b[49m\u001b[38;5;241;43m.\u001b[39;49m\u001b[43mlistdir\u001b[49m\u001b[43m(\u001b[49m\u001b[43mdirectorio\u001b[49m\u001b[43m)\u001b[49m \u001b[38;5;28;01mif\u001b[39;00m archivo\u001b[38;5;241m.\u001b[39mendswith(\u001b[38;5;124m'\u001b[39m\u001b[38;5;124m.dcm\u001b[39m\u001b[38;5;124m'\u001b[39m)]\n\u001b[0;32m      8\u001b[0m     archivos_dicom\u001b[38;5;241m.\u001b[39msort(key\u001b[38;5;241m=\u001b[39m\u001b[38;5;28;01mlambda\u001b[39;00m x: \u001b[38;5;28mint\u001b[39m(x\u001b[38;5;241m.\u001b[39msplit(\u001b[38;5;124m'\u001b[39m\u001b[38;5;124m-\u001b[39m\u001b[38;5;124m'\u001b[39m)[\u001b[38;5;241m1\u001b[39m]))  \u001b[38;5;66;03m# Asumiendo que los archivos están nombrados como 'image-000001.dcm', 'image-000002.dcm', etc.\u001b[39;00m\n\u001b[0;32m      9\u001b[0m     \u001b[38;5;28;01mreturn\u001b[39;00m [pydicom\u001b[38;5;241m.\u001b[39mdcmread(os\u001b[38;5;241m.\u001b[39mpath\u001b[38;5;241m.\u001b[39mjoin(directorio, f)) \u001b[38;5;28;01mfor\u001b[39;00m f \u001b[38;5;129;01min\u001b[39;00m archivos_dicom]\n",
      "\u001b[1;31mFileNotFoundError\u001b[0m: [WinError 3] El sistema no puede encontrar la ruta especificada: 'ruta/a/tu/carpeta/con/imagenes'"
     ]
    }
   ],
   "source": [
    "import os\n",
    "import pydicom\n",
    "import matplotlib.pyplot as plt\n",
    "\n",
    "# Parte a: Recolectar todas las imágenes .dcm y guardarlas en una lista en orden\n",
    "def cargar_imagenes_dicom(directorio):\n",
    "    archivos_dicom = [archivo for archivo in os.listdir(directorio) if archivo.endswith('.dcm')]\n",
    "    archivos_dicom.sort(key=lambda x: int(x.split('-')[1]))  # Asumiendo que los archivos están nombrados como 'image-000001.dcm', 'image-000002.dcm', etc.\n",
    "    return [pydicom.dcmread(os.path.join(directorio, f)) for f in archivos_dicom]\n",
    "\n",
    "# Parte b: Implementar la visualización de las imágenes en bucle\n",
    "def visualizar_imagenes_dicom(lista_dicom):\n",
    "    for imagen_dicom in lista_dicom:\n",
    "        plt.imshow(imagen_dicom.pixel_array, cmap=plt.cm.bone)\n",
    "        plt.show()\n",
    "        input(\"Presiona Enter para ver la siguiente imagen...\")  # Pausa entre imágenes\n",
    "\n",
    "# Ruta al directorio donde se encuentran las imágenes DICOM\n",
    "directorio_dicom = 'ruta/a/tu/carpeta/con/imagenes'\n",
    "\n",
    "# Cargar y visualizar las imágenes DICOM\n",
    "imagenes_dicom = cargar_imagenes_dicom(directorio_dicom)\n",
    "visualizar_imagenes_dicom(imagenes_dicom)\n"
   ]
  }
 ],
 "metadata": {
  "kernelspec": {
   "display_name": "Python 3",
   "language": "python",
   "name": "python3"
  },
  "language_info": {
   "codemirror_mode": {
    "name": "ipython",
    "version": 3
   },
   "file_extension": ".py",
   "mimetype": "text/x-python",
   "name": "python",
   "nbconvert_exporter": "python",
   "pygments_lexer": "ipython3",
   "version": "3.11.2"
  }
 },
 "nbformat": 4,
 "nbformat_minor": 2
}
