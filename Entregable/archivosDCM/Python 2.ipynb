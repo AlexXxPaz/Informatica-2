{
 "cells": [
  {
   "cell_type": "code",
   "execution_count": null,
   "metadata": {},
   "outputs": [],
   "source": [
    "import os\n",
    "import pydicom\n",
    "import matplotlib.pyplot as plt\n",
    "\n",
    "# Parte a: Recolectar todas las imágenes .dcm y guardarlas en una lista en orden\n",
    "def cargar_imagenes_dicom(directorio):\n",
    "    archivos_dicom = [archivo for archivo in os.listdir(directorio) if archivo.endswith('.dcm')]\n",
    "    archivos_dicom.sort(key=lambda x: int(x.split('-')[1].split('.')[0]))  # Asumiendo que los archivos están nombrados como 'image-000001.dcm', 'image-000002.dcm', etc.\n",
    "    return [pydicom.dcmread(os.path.join(directorio, f)) for f in archivos_dicom]\n",
    "\n",
    "# Parte b: Implementar la visualización de las imágenes en bucle\n",
    "def visualizar_imagenes_dicom(lista_dicom):\n",
    "    for imagen_dicom in lista_dicom:\n",
    "        plt.imshow(imagen_dicom.pixel_array, cmap=plt.cm.bone)\n",
    "        plt.show()\n",
    "        input(\"Presiona Enter para ver la siguiente imagen...\")  # Pausa entre imágenes\n",
    "\n",
    "# Ruta al directorio donde se encuentran las imágenes DICOM\n",
    "# Asegúrate de reemplazar la ruta con la ruta exacta donde se encuentran tus imágenes\n",
    "directorio_dicom = r'C:\\Users\\ALEJANDRO PAZ\\OneDrive\\Documentos\\Universidad\\UdeA\\2024-1\\Informática 2\\Informatica-2\\Entregable\\archivosDCM'\n",
    "\n",
    "# Cargar y visualizar las imágenes DICOM\n",
    "imagenes_dicom = cargar_imagenes_dicom(directorio_dicom)\n",
    "visualizar_imagenes_dicom(imagenes_dicom)\n"
   ]
  }
 ],
 "metadata": {
  "kernelspec": {
   "display_name": "Python 3",
   "language": "python",
   "name": "python3"
  },
  "language_info": {
   "codemirror_mode": {
    "name": "ipython",
    "version": 3
   },
   "file_extension": ".py",
   "mimetype": "text/x-python",
   "name": "python",
   "nbconvert_exporter": "python",
   "pygments_lexer": "ipython3",
   "version": "3.11.2"
  }
 },
 "nbformat": 4,
 "nbformat_minor": 2
}
