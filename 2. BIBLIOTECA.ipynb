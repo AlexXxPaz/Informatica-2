{
 "cells": [
  {
   "cell_type": "code",
   "execution_count": 72,
   "metadata": {},
   "outputs": [],
   "source": [
    "class Biblioteca:\n",
    "    def __init__(self):\n",
    "        self.catalogo = {}\n",
    "\n",
    "    def agregarLibro(self, libro):\n",
    "        # Agregar un libro al catálogo\n",
    "        self.catalogo[libro.titulo] = libro\n",
    "        print(f\"Libro '{libro.titulo}' agregado al catálogo.\")\n",
    "\n",
    "    def prestarLibro(self, libro, miembro):\n",
    "        # Prestar un libro a un miembro\n",
    "        if libro.titulo in self.catalogo and self.catalogo[libro.titulo].copias > 0:\n",
    "            self.catalogo[libro.titulo].copias -= 1\n",
    "            print(f\"Libro '{libro.titulo}' prestado a {miembro.nombre}.\")\n",
    "        else:\n",
    "            print(f\"Libro '{libro.titulo}' no disponible para préstamo.\")\n",
    "\n",
    "    def retornarLibro(self, libro, miembro):\n",
    "        # Retornar un libro prestado\n",
    "        self.catalogo[libro.titulo].copias += 1\n",
    "        print(f\"Libro '{libro.titulo}' retornado por {miembro.nombre}.\")\n",
    "\n",
    "class Libro:\n",
    "    def __init__(self, titulo, autor, copias):\n",
    "        self.titulo = titulo\n",
    "        self.autor = autor\n",
    "        self.copias = copias\n",
    "\n",
    "class Revista(Libro):\n",
    "    def __init__(self, titulo, autor, copias, esPrestable):\n",
    "        super().__init__(titulo, autor, copias)\n",
    "        self.esPrestable = esPrestable\n",
    "\n",
    "class Miembro:\n",
    "    def __init__(self, nombre, id, max_items):\n",
    "        self.nombre = nombre\n",
    "        self.id = id\n",
    "        self.max_items = max_items\n",
    "\n",
    "class Staff(Miembro):\n",
    "    def __init__(self, nombre, id, max_items):\n",
    "        super().__init__(nombre, id, max_items)"
   ]
  },
  {
   "cell_type": "code",
   "execution_count": 73,
   "metadata": {},
   "outputs": [],
   "source": [
    "biblioteca = Biblioteca()"
   ]
  },
  {
   "cell_type": "code",
   "execution_count": 74,
   "metadata": {},
   "outputs": [],
   "source": [
    "libro1 = Libro(\"Cien años de soledad\", \"Gabriel García Márquez\", 3)\n",
    "revista1 = Revista(\"National Geographic\", \"Varios autores\", 2, esPrestable=False)"
   ]
  },
  {
   "cell_type": "code",
   "execution_count": 75,
   "metadata": {},
   "outputs": [
    {
     "name": "stdout",
     "output_type": "stream",
     "text": [
      "Libro 'Cien años de soledad' agregado al catálogo.\n",
      "Libro 'National Geographic' agregado al catálogo.\n"
     ]
    }
   ],
   "source": [
    "biblioteca.agregarLibro(libro1)\n",
    "biblioteca.agregarLibro(revista1)"
   ]
  },
  {
   "cell_type": "code",
   "execution_count": 83,
   "metadata": {},
   "outputs": [],
   "source": [
    "miembro1 = Miembro(\"Laura\", 1, 6)\n",
    "staff1 = Staff(\"Carlos\", 2, 12)"
   ]
  },
  {
   "cell_type": "code",
   "execution_count": 82,
   "metadata": {},
   "outputs": [
    {
     "name": "stdout",
     "output_type": "stream",
     "text": [
      "Libro 'Cien años de soledad' prestado a Laura.\n"
     ]
    }
   ],
   "source": [
    "biblioteca.prestarLibro(libro1, miembro1)"
   ]
  },
  {
   "cell_type": "code",
   "execution_count": 78,
   "metadata": {},
   "outputs": [
    {
     "name": "stdout",
     "output_type": "stream",
     "text": [
      "Libro 'Cien años de soledad' retornado por Laura.\n"
     ]
    }
   ],
   "source": [
    "biblioteca.retornarLibro(libro1, miembro1)\n"
   ]
  },
  {
   "cell_type": "code",
   "execution_count": 79,
   "metadata": {},
   "outputs": [
    {
     "name": "stdout",
     "output_type": "stream",
     "text": [
      "Revista 'National Geographic' no es prestable.\n"
     ]
    }
   ],
   "source": [
    "if revista1.esPrestable:\n",
    "    biblioteca.prestarLibro(revista1, staff1)\n",
    "else:\n",
    "    print(f\"Revista '{revista1.titulo}' no es prestable.\")"
   ]
  }
 ],
 "metadata": {
  "kernelspec": {
   "display_name": "Python 3",
   "language": "python",
   "name": "python3"
  },
  "language_info": {
   "codemirror_mode": {
    "name": "ipython",
    "version": 3
   },
   "file_extension": ".py",
   "mimetype": "text/x-python",
   "name": "python",
   "nbconvert_exporter": "python",
   "pygments_lexer": "ipython3",
   "version": "3.11.2"
  }
 },
 "nbformat": 4,
 "nbformat_minor": 2
}
