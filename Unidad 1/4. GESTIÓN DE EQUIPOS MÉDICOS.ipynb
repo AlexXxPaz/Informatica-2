{
 "cells": [
  {
   "cell_type": "code",
   "execution_count": 7,
   "metadata": {},
   "outputs": [],
   "source": [
    "class equipoMedico:\n",
    "    def __init__(self, nombre, marca, estado):\n",
    "        self.nombre = nombre\n",
    "        self.marca = marca\n",
    "        self.estado = estado\n",
    "\n",
    "class resonanciaMagnetica(equipoMedico):\n",
    "    def configurarParametros(self, parametros):\n",
    "        print(f\"Configurando parámetros de imagen en {self.nombre} con los siguientes parámetros: {parametros}\")\n",
    "\n",
    "class electrocardiograma(equipoMedico):\n",
    "    def analizarActividadCardiaca(self, datos):\n",
    "        print(f\"Analizando actividad cardíaca en {self.nombre} con los siguientes datos: {datos}\")"
   ]
  },
  {
   "cell_type": "code",
   "execution_count": 8,
   "metadata": {},
   "outputs": [
    {
     "name": "stdout",
     "output_type": "stream",
     "text": [
      "Configurando parámetros de imagen en Resonancia General con los siguientes parámetros: {'brillo': 10, 'contraste': 15}\n",
      "Analizando actividad cardíaca en Electrocardiograma Cardio con los siguientes datos: {'frecuencia': 72, 'ritmo': 'Regular'}\n"
     ]
    }
   ],
   "source": [
    "# Crear una instancia de resonanciaMagnetica\n",
    "resonancia = resonanciaMagnetica(\"Resonancia General\", \"MarcaX\", \"Funcionando\")\n",
    "resonancia.configurarParametros({\"brillo\": 10, \"contraste\": 15})\n",
    "\n",
    "# Crear una instancia de electrocardiograma\n",
    "electro = electrocardiograma(\"Electrocardiograma Cardio\", \"MarcaY\", \"Funcionando\")\n",
    "electro.analizarActividadCardiaca({\"frecuencia\": 72, \"ritmo\": \"Regular\"})"
   ]
  }
 ],
 "metadata": {
  "kernelspec": {
   "display_name": "Python 3",
   "language": "python",
   "name": "python3"
  },
  "language_info": {
   "codemirror_mode": {
    "name": "ipython",
    "version": 3
   },
   "file_extension": ".py",
   "mimetype": "text/x-python",
   "name": "python",
   "nbconvert_exporter": "python",
   "pygments_lexer": "ipython3",
   "version": "3.11.2"
  }
 },
 "nbformat": 4,
 "nbformat_minor": 2
}
