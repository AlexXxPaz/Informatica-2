{
 "cells": [
  {
   "cell_type": "code",
   "execution_count": 52,
   "metadata": {},
   "outputs": [],
   "source": [
    "class Pasajero:\n",
    "    def __init__(self, nombre, apellido, edad, pasaporte):\n",
    "        self.nombre=nombre\n",
    "        self.apellido=apellido\n",
    "        self.edad=edad\n",
    "        self.pasaporte=pasaporte\n",
    "\n",
    "    def mostrarInformacion(self):\n",
    "        print(f\"El pasajero es: {self.nombre} {self.apellido} con {self.edad} años de edad\")"
   ]
  },
  {
   "cell_type": "code",
   "execution_count": 53,
   "metadata": {},
   "outputs": [],
   "source": [
    "class Vuelo:\n",
    "    def __init__(self, numero, origen, destino, cantidad):\n",
    "        self.numeroVuelo=numero\n",
    "        self._origen=origen\n",
    "        self._destino=destino\n",
    "        self.cantidad=cantidad\n",
    "        self.asientosDisponibles=cantidad\n",
    "        self.reservas=[]\n",
    "        #No olvidar dependencia\n",
    "\n",
    "    def mostrarInformacion(self):\n",
    "        print(f\"El vuelo numero: {self.numeroVuelo} de {self._origen}/{self._destino} tiene {self.asientosDisponibles} asientos disponibles de {self.cantidad}\")\n",
    "    \n",
    "    def reservaAsiento(self, pasajero): #Relación de asosiación\n",
    "        if pasajero in self.reservas:\n",
    "            print(f\"El usuario {pasajero.nombre} ya tiene una reserva en este vuelo\")\n",
    "        elif self.asientosDisponibles > 0:\n",
    "            self.reservas.append(pasajero)\n",
    "            self.asientosDisponibles-=1\n",
    "            print(f\"El usuario {pasajero.nombre} realizó una reserva\")\n",
    "        else:\n",
    "            print(\"No hay asientos disponibles\")\n"
   ]
  },
  {
   "cell_type": "code",
   "execution_count": 54,
   "metadata": {},
   "outputs": [],
   "source": [
    "pasajero1=Pasajero(\"Isa\",\"Ariza\",24,\"PAZ099\")"
   ]
  },
  {
   "cell_type": "code",
   "execution_count": 55,
   "metadata": {},
   "outputs": [],
   "source": [
    "vuelo1=Vuelo(\"MK123\", \"Medellín\", \"Cartagena\", 80)"
   ]
  },
  {
   "cell_type": "code",
   "execution_count": 56,
   "metadata": {},
   "outputs": [
    {
     "name": "stdout",
     "output_type": "stream",
     "text": [
      "El vuelo numero: MK123 de Medellín/Cartagena tiene 80 asientos disponibles de 80\n"
     ]
    }
   ],
   "source": [
    "vuelo1.mostrarInformacion()"
   ]
  },
  {
   "cell_type": "code",
   "execution_count": 57,
   "metadata": {},
   "outputs": [
    {
     "name": "stdout",
     "output_type": "stream",
     "text": [
      "El usuario Isa realizó una reserva\n"
     ]
    }
   ],
   "source": [
    "vuelo1.reservaAsiento(pasajero1)"
   ]
  },
  {
   "cell_type": "code",
   "execution_count": 58,
   "metadata": {},
   "outputs": [
    {
     "name": "stdout",
     "output_type": "stream",
     "text": [
      "El vuelo numero: MK123 de Medellín/Cartagena tiene 79 asientos disponibles de 80\n"
     ]
    }
   ],
   "source": [
    "vuelo1.mostrarInformacion()"
   ]
  },
  {
   "cell_type": "code",
   "execution_count": 59,
   "metadata": {},
   "outputs": [
    {
     "name": "stdout",
     "output_type": "stream",
     "text": [
      "El pasajero es: Isa Ariza con 24 años de edad\n"
     ]
    }
   ],
   "source": [
    "pasajero1.mostrarInformacion()"
   ]
  }
 ],
 "metadata": {
  "kernelspec": {
   "display_name": "Python 3",
   "language": "python",
   "name": "python3"
  },
  "language_info": {
   "codemirror_mode": {
    "name": "ipython",
    "version": 3
   },
   "file_extension": ".py",
   "mimetype": "text/x-python",
   "name": "python",
   "nbconvert_exporter": "python",
   "pygments_lexer": "ipython3",
   "version": "3.11.3"
  },
  "orig_nbformat": 4
 },
 "nbformat": 4,
 "nbformat_minor": 2
}
