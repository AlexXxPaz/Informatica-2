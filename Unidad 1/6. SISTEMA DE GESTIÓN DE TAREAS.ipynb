{
 "cells": [
  {
   "cell_type": "code",
   "execution_count": 25,
   "metadata": {},
   "outputs": [],
   "source": [
    "class tarea:\n",
    "    def __init__(self, descripcion, prioridad):\n",
    "        self.descripcion = descripcion\n",
    "        self.prioridad = prioridad\n",
    "        self.completada = False\n",
    "\n",
    "    def marcarComoCompletada(self):\n",
    "        self.completada = True\n",
    "\n",
    "    def editarDescripcion(self, nuevaDescripcion):\n",
    "        self.descripcion = nuevaDescripcion\n",
    "\n",
    "    def editarPrioridad(self, nuevaPrioridad):\n",
    "        self.prioridad = nuevaPrioridad\n",
    "\n",
    "class listaTareas:\n",
    "    def __init__(self):\n",
    "        self.tareas = []\n",
    "\n",
    "    def agregarTarea(self, descripcion, prioridad):\n",
    "        nuevaTarea = tarea(descripcion, prioridad)\n",
    "        self.tareas.append(nuevaTarea)\n",
    "\n",
    "    def visualizarTareasPendientes(self):\n",
    "        for tarea in self.tareas:\n",
    "            if not tarea.completada:\n",
    "                print(f\"Descripción: {tarea.descripcion}, Prioridad: {tarea.prioridad}\")\n",
    "\n",
    "    def visualizarTareasCompletadas(self):\n",
    "        for tarea in self.tareas:\n",
    "            if tarea.completada:\n",
    "                print(f\"Descripción: {tarea.descripcion}, Prioridad: {tarea.prioridad}\")\n"
   ]
  },
  {
   "cell_type": "code",
   "execution_count": 26,
   "metadata": {},
   "outputs": [],
   "source": [
    "# Crear una instancia de listaTareas\n",
    "lista = listaTareas()"
   ]
  },
  {
   "cell_type": "code",
   "execution_count": 27,
   "metadata": {},
   "outputs": [],
   "source": [
    "# Agregar tareas\n",
    "lista.agregarTarea(\"Comprar leche\", \"Alta\")\n",
    "lista.agregarTarea(\"Lavar el coche\", \"Media\")"
   ]
  },
  {
   "cell_type": "code",
   "execution_count": 28,
   "metadata": {},
   "outputs": [
    {
     "name": "stdout",
     "output_type": "stream",
     "text": [
      "Descripción: Comprar leche, Prioridad: Alta\n",
      "Descripción: Lavar el coche, Prioridad: Media\n"
     ]
    }
   ],
   "source": [
    "# Visualizar tareas pendientes\n",
    "lista.visualizarTareasPendientes()"
   ]
  },
  {
   "cell_type": "code",
   "execution_count": 29,
   "metadata": {},
   "outputs": [],
   "source": [
    "# Marcar la primera tarea como completada\n",
    "lista.tareas[0].marcarComoCompletada()"
   ]
  },
  {
   "cell_type": "code",
   "execution_count": 30,
   "metadata": {},
   "outputs": [
    {
     "name": "stdout",
     "output_type": "stream",
     "text": [
      "Descripción: Comprar leche, Prioridad: Alta\n"
     ]
    }
   ],
   "source": [
    "# Visualizar tareas completadas\n",
    "lista.visualizarTareasCompletadas()"
   ]
  },
  {
   "cell_type": "code",
   "execution_count": 31,
   "metadata": {},
   "outputs": [],
   "source": [
    "# Marcar la segunda tarea como completada\n",
    "lista.tareas[1].marcarComoCompletada()"
   ]
  },
  {
   "cell_type": "code",
   "execution_count": 32,
   "metadata": {},
   "outputs": [
    {
     "name": "stdout",
     "output_type": "stream",
     "text": [
      "Descripción: Comprar leche, Prioridad: Alta\n",
      "Descripción: Lavar el coche, Prioridad: Media\n"
     ]
    }
   ],
   "source": [
    "# Visualizar tareas completadas\n",
    "lista.visualizarTareasCompletadas()"
   ]
  }
 ],
 "metadata": {
  "kernelspec": {
   "display_name": "Python 3",
   "language": "python",
   "name": "python3"
  },
  "language_info": {
   "codemirror_mode": {
    "name": "ipython",
    "version": 3
   },
   "file_extension": ".py",
   "mimetype": "text/x-python",
   "name": "python",
   "nbconvert_exporter": "python",
   "pygments_lexer": "ipython3",
   "version": "3.11.2"
  }
 },
 "nbformat": 4,
 "nbformat_minor": 2
}
