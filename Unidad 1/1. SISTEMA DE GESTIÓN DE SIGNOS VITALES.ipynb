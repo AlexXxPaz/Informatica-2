{
 "cells": [
  {
   "cell_type": "code",
   "execution_count": 29,
   "metadata": {},
   "outputs": [],
   "source": [
    "class Paciente:\n",
    "    def __init__(self, nombre, cedula, temperatura, frecuenciaCardiaca, presion):\n",
    "        self.nombre = nombre\n",
    "        self.cedula = cedula\n",
    "        self.temperatura = temperatura\n",
    "        self.frecuenciaCardiaca = frecuenciaCardiaca\n",
    "        self.presion = presion\n",
    "\n",
    "    def __str__(self):\n",
    "        return f\"{self.nombre}; {self.temperatura}; {self.frecuenciaCardiaca}; {self.presion}\"\n",
    "\n",
    "class Medico:\n",
    "    def __init__(self, nombre, cedula, registroMedico):\n",
    "        self.nombre = nombre\n",
    "        self.cedula = cedula\n",
    "        self.registroMedico = registroMedico\n",
    "        self.pacientes = []\n",
    "\n",
    "    def verificarEstado(self, cedula):\n",
    "        for paciente in self.pacientes:\n",
    "            if paciente.cedula == cedula:\n",
    "                return str(paciente)\n",
    "        return \"Paciente no existe\"\n",
    "\n",
    "    def ingresarPaciente(self, paciente):\n",
    "        if any(p.cedula == paciente.cedula for p in self.pacientes):\n",
    "            return \"Paciente existe\"\n",
    "        else:\n",
    "            self.pacientes.append(paciente)\n",
    "            return \"Paciente agregado\""
   ]
  },
  {
   "cell_type": "code",
   "execution_count": 30,
   "metadata": {},
   "outputs": [
    {
     "name": "stdout",
     "output_type": "stream",
     "text": [
      "Paciente agregado\n",
      "Juan Gomez; 36.5; 80; 120/80\n"
     ]
    }
   ],
   "source": [
    "# Crear un objeto Medico\n",
    "doctor = Medico(\"Dr. Perez\", \"12345678\", \"RM12345\")\n",
    "\n",
    "# Crear un objeto Paciente\n",
    "paciente = Paciente(\"Juan Gomez\", \"87654321\", 36.5, 80, \"120/80\")\n",
    "\n",
    "# Ingresar un paciente al sistema\n",
    "print(doctor.ingresarPaciente(paciente))  # Salida: Paciente agregado\n",
    "\n",
    "# Verificar el estado de un paciente\n",
    "print(doctor.verificarEstado(\"87654321\"))  # Salida: Juan Gomez; 36.5; 80; 120/80\n"
   ]
  },
  {
   "cell_type": "code",
   "execution_count": 31,
   "metadata": {},
   "outputs": [],
   "source": [
    "paciente1=Paciente(\"Alejandro Paz\", \"1000105064\", 36.5, 80, \"120/80\")"
   ]
  },
  {
   "cell_type": "code",
   "execution_count": 32,
   "metadata": {},
   "outputs": [
    {
     "name": "stdout",
     "output_type": "stream",
     "text": [
      "Paciente agregado\n"
     ]
    }
   ],
   "source": [
    "print(doctor.ingresarPaciente(paciente1))"
   ]
  },
  {
   "cell_type": "code",
   "execution_count": 33,
   "metadata": {},
   "outputs": [
    {
     "name": "stdout",
     "output_type": "stream",
     "text": [
      "Alejandro Paz; 36.5; 80; 120/80\n"
     ]
    }
   ],
   "source": [
    "print(doctor.verificarEstado(\"1000105064\"))"
   ]
  },
  {
   "cell_type": "code",
   "execution_count": 34,
   "metadata": {},
   "outputs": [
    {
     "name": "stdout",
     "output_type": "stream",
     "text": [
      "Paciente no existe\n"
     ]
    }
   ],
   "source": [
    "print(doctor.verificarEstado(\"123456\"))"
   ]
  }
 ],
 "metadata": {
  "kernelspec": {
   "display_name": "Python 3",
   "language": "python",
   "name": "python3"
  },
  "language_info": {
   "codemirror_mode": {
    "name": "ipython",
    "version": 3
   },
   "file_extension": ".py",
   "mimetype": "text/x-python",
   "name": "python",
   "nbconvert_exporter": "python",
   "pygments_lexer": "ipython3",
   "version": "3.11.2"
  }
 },
 "nbformat": 4,
 "nbformat_minor": 2
}
