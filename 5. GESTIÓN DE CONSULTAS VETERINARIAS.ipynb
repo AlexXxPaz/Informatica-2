{
 "cells": [
  {
   "cell_type": "code",
   "execution_count": 7,
   "metadata": {},
   "outputs": [],
   "source": [
    "class animal:\n",
    "    def __init__(self, nombre, especie, raza):\n",
    "        self.nombre = nombre\n",
    "        self.especie = especie\n",
    "        self.raza = raza\n",
    "\n",
    "class consulta:\n",
    "    def __init__(self, animal, fecha, diagnostico):\n",
    "        self.animal = animal\n",
    "        self.fecha = fecha\n",
    "        self.diagnostico = diagnostico\n",
    "\n",
    "class clinicaVeterinaria:\n",
    "    def __init__(self):\n",
    "        self.animales = []\n",
    "        self.consultas = []\n",
    "\n",
    "    def agregarAnimal(self, nombre, especie, raza):\n",
    "        for a in self.animales:\n",
    "            if a.nombre == nombre and a.especie == especie and a.raza == raza:\n",
    "                print(\"Este animal ya está registrado.\")\n",
    "                return\n",
    "        nuevoAnimal = animal(nombre, especie, raza)\n",
    "        self.animales.append(nuevoAnimal)\n",
    "        print(f\"Animal {nombre} agregado.\")\n",
    "\n",
    "    def programarConsulta(self, nombre, especie, raza, fecha, diagnostico):\n",
    "        for a in self.animales:\n",
    "            if a.nombre == nombre and a.especie == especie and a.raza == raza:\n",
    "                nuevaConsulta = consulta(a, fecha, diagnostico)\n",
    "                self.consultas.append(nuevaConsulta)\n",
    "                print(f\"Consulta programada para el animal {nombre} en la fecha {fecha}.\")\n",
    "                return\n",
    "        print(\"Animal no encontrado.\")"
   ]
  },
  {
   "cell_type": "code",
   "execution_count": 8,
   "metadata": {},
   "outputs": [
    {
     "name": "stdout",
     "output_type": "stream",
     "text": [
      "Animal Fido agregado.\n",
      "Animal Miau agregado.\n",
      "Consulta programada para el animal Fido en la fecha 2024-03-15.\n",
      "Consulta programada para el animal Miau en la fecha 2024-03-16.\n"
     ]
    }
   ],
   "source": [
    "# Crear una instancia de clinicaVeterinaria\n",
    "clinica = clinicaVeterinaria()\n",
    "\n",
    "# Agregar animales\n",
    "clinica.agregarAnimal(\"Fido\", \"Perro\", \"Labrador\")\n",
    "clinica.agregarAnimal(\"Miau\", \"Gato\", \"Siames\")\n",
    "\n",
    "# Programar consultas\n",
    "clinica.programarConsulta(\"Fido\", \"Perro\", \"Labrador\", \"2024-03-15\", \"Vacuna anual\")\n",
    "clinica.programarConsulta(\"Miau\", \"Gato\", \"Siames\", \"2024-03-16\", \"Revisión general\")"
   ]
  },
  {
   "cell_type": "code",
   "execution_count": 9,
   "metadata": {},
   "outputs": [
    {
     "name": "stdout",
     "output_type": "stream",
     "text": [
      "Animal no encontrado.\n"
     ]
    }
   ],
   "source": [
    "clinica.programarConsulta(\"Roco\", \"Perro\", \"Labrador\", \"2024-03-15\", \"Vacuna anual\")\n"
   ]
  }
 ],
 "metadata": {
  "kernelspec": {
   "display_name": "Python 3",
   "language": "python",
   "name": "python3"
  },
  "language_info": {
   "codemirror_mode": {
    "name": "ipython",
    "version": 3
   },
   "file_extension": ".py",
   "mimetype": "text/x-python",
   "name": "python",
   "nbconvert_exporter": "python",
   "pygments_lexer": "ipython3",
   "version": "3.11.2"
  }
 },
 "nbformat": 4,
 "nbformat_minor": 2
}
