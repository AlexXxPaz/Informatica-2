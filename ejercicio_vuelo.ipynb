{
 "cells": [
  {
   "cell_type": "markdown",
   "metadata": {},
   "source": [
    "### Ejemplo: Sistema de gestion de vuelos"
   ]
  },
  {
   "cell_type": "markdown",
   "metadata": {},
   "source": [
    "Se propone la creación de un sistema de reserva de vuelos. Para ello, se plantea el diseño de tres clases esenciales: \"Pasajero\", \"Vuelo\" y \"ReservaVuelos\".\n",
    "\n",
    "En la clase \"Pasajero\", se definen atributos como el nombre, apellido, edad y número de pasaporte. Además, se establece un método para mostrar la información del pasajero.\n",
    "\n",
    "La clase \"Vuelo\" incorpora atributos como el número de vuelo, origen, destino, capacidad total y asientos disponibles. Sus métodos de instancia permiten mostrar la información del vuelo, reservar asientos para pasajeros y cancelar dichas reservas, considerando la disponibilidad de asientos.\n",
    "\n",
    "La clase \"ReservaVuelos\" se encarga de gestionar la lista de vuelos disponibles, uno de sus atributos es el nombre de la aereolina a la que pertenece. Sus métodos incluyen la adición de vuelos a la lista, búsqueda de vuelos por número, presentación de vuelos disponibles, así como la realización y cancelación de reservas, asociando vuelos y pasajeros.\n",
    "\n",
    "El sistema también debe aplicar validaciones en los métodos para garantizar la exactitud de los datos ingresados y evitar reservas en exceso de la capacidad de asientos. En resumen, el sistema permite la administración integral de vuelos, reservas y pasajeros, asegurando la coherencia y la correcta gestión de información."
   ]
  },
  {
   "cell_type": "code",
   "execution_count": 115,
   "metadata": {},
   "outputs": [],
   "source": [
    "class Pasajero:\n",
    "    def __init__(self, nombre, apellido, edad, pasaporte):\n",
    "        self.nombre=nombre\n",
    "        self.apellido=apellido\n",
    "        self.edad=edad\n",
    "        self.pasaporte=pasaporte\n",
    "\n",
    "    def mostrarInformacion(self):\n",
    "        print(f\"El pasajero es: {self.nombre} {self.apellido}\")"
   ]
  },
  {
   "cell_type": "code",
   "execution_count": 116,
   "metadata": {},
   "outputs": [],
   "source": [
    "class Vuelo:\n",
    "    def __init__(self,numero,origen,destino,cantidad):\n",
    "        self.numeroVuelo=numero\n",
    "        self._origen=origen\n",
    "        self._destino=destino\n",
    "        self.cantidad=cantidad\n",
    "        self.asientosDisponibles=cantidad\n",
    "        self.reservas=[]\n",
    "        \n",
    "        reservaVuelos.adicionVuelo(self)\n",
    "\n",
    "    def mostrarInformacion(self):\n",
    "        print(f\"El vuelo número: {self.numeroVuelo} de {self._origen}/{self._destino} tiene {self.asientosDisponibles} asientos disponibles de {self.cantidad} \")\n",
    "\n",
    "    def reservaAsiento(self,pasajero): ##Relación de asociación\n",
    "        if pasajero in self.reservas:\n",
    "            print(f\"El usuario {pasajero.nombre} ya tiene una reserva en este vuelo\")\n",
    "        elif self.asientosDisponibles > 0:\n",
    "            self.reservas.append(pasajero)\n",
    "            self.asientosDisponibles-=1\n",
    "            print(f\"El usuario {pasajero.nombre} realizó una reserva\")\n",
    "        else:\n",
    "            print(\"No hay asientos disponibles\")\n",
    "    def removerAsiento(self, pasajero): #Establecer relación de asociación\n",
    "        if pasajero in self.reservas:\n",
    "            self.reservas.remove(pasajero)\n",
    "            self.asientosDisponibles +=1\n",
    "            print(f\"El pasajero {pasajero.nombre} ha cancelado su reserva\")\n",
    "        else:\n",
    "            print(f\"El pasajero {pasajero.nombre} con pasaporte {pasajero.pasaporte} no tiene una reserva en el vuelo {self.numeroVuelo}\")"
   ]
  },
  {
   "cell_type": "code",
   "execution_count": 117,
   "metadata": {},
   "outputs": [
    {
     "ename": "SyntaxError",
     "evalue": "f-string: invalid syntax. Perhaps you forgot a comma? (945316500.py, line 18)",
     "output_type": "error",
     "traceback": [
      "\u001b[1;36m  Cell \u001b[1;32mIn[117], line 18\u001b[1;36m\u001b[0m\n\u001b[1;33m    print(f\"Vuelo encontrado: {i.mostrarInformacion{}}\")\u001b[0m\n\u001b[1;37m    ^\u001b[0m\n\u001b[1;31mSyntaxError\u001b[0m\u001b[1;31m:\u001b[0m f-string: invalid syntax. Perhaps you forgot a comma?\n"
     ]
    }
   ],
   "source": [
    "class reservaVuelos:\n",
    "    vuelos=[]\n",
    "\n",
    "    def __init__(self, aerolinea):\n",
    "        self.aerolinea=aerolinea\n",
    "        \n",
    "    @classmethod\n",
    "    def adicionVuelo(cls, vuelo):\n",
    "        if vuelo in cls.vuelos:\n",
    "            print(f\"El vuelo {vuelo.numeroVuelo} ya se ha agregado\")\n",
    "        else:\n",
    "            cls.vuelos.append(vuelo)\n",
    "            print(\"Vuelo añadido\")\n",
    "\n",
    "    def busquedaVuelo(self,numero):\n",
    "        for i in reservaVuelos.vuelos:\n",
    "            if i.numeroVuelo==numero:\n",
    "                print(f\"Vuelo encontrado: {i.mostrarInformacion{}}\")\n",
    "\n",
    "    def vuelosDisponibles(self):\n",
    "            for j in reservaVuelos.vuelos:\n",
    "                print(j.mostrarInformacion())\n",
    "\n",
    "    def realizarReserva(self, pasajero, vuelo):\n",
    "        return(vuelo.reservaAsiento(pasajero))\n",
    "\n",
    "    def realizarReserva(self, pasajero, vuelo):\n",
    "        return(vuelo.removerAsiento(pasajero))\n",
    "    "
   ]
  },
  {
   "cell_type": "code",
   "execution_count": null,
   "metadata": {},
   "outputs": [],
   "source": [
    "pasajero1=Pasajero(\"Isa\",\"Ariza\",24,\"PA20989\")"
   ]
  },
  {
   "cell_type": "code",
   "execution_count": null,
   "metadata": {},
   "outputs": [
    {
     "name": "stdout",
     "output_type": "stream",
     "text": [
      "Vuelo añadido\n"
     ]
    }
   ],
   "source": [
    "vuelo1=Vuelo(\"HK123\",\"Medellin\",\"Cartagena\",80)"
   ]
  },
  {
   "cell_type": "code",
   "execution_count": null,
   "metadata": {},
   "outputs": [
    {
     "name": "stdout",
     "output_type": "stream",
     "text": [
      "El vuelo número: HK123 de Medellin/Cartagena tiene 80 asientos disponibles de 80 \n"
     ]
    }
   ],
   "source": [
    "vuelo1.mostrarInformacion()"
   ]
  },
  {
   "cell_type": "code",
   "execution_count": null,
   "metadata": {},
   "outputs": [
    {
     "name": "stdout",
     "output_type": "stream",
     "text": [
      "El usuario Isa realizó una reserva\n"
     ]
    }
   ],
   "source": [
    "vuelo1.reservaAsiento(pasajero1)"
   ]
  },
  {
   "cell_type": "code",
   "execution_count": null,
   "metadata": {},
   "outputs": [
    {
     "name": "stdout",
     "output_type": "stream",
     "text": [
      "El vuelo número: HK123 de Medellin/Cartagena tiene 79 asientos disponibles de 80 \n"
     ]
    }
   ],
   "source": [
    "vuelo1.mostrarInformacion()"
   ]
  },
  {
   "cell_type": "code",
   "execution_count": null,
   "metadata": {},
   "outputs": [
    {
     "name": "stdout",
     "output_type": "stream",
     "text": [
      "El pasajero Isa ha cancelado su reserva\n"
     ]
    }
   ],
   "source": [
    "vuelo1.removerAsiento(pasajero1)"
   ]
  },
  {
   "cell_type": "code",
   "execution_count": null,
   "metadata": {},
   "outputs": [
    {
     "name": "stdout",
     "output_type": "stream",
     "text": [
      "El vuelo número: HK123 de Medellin/Cartagena tiene 80 asientos disponibles de 80 \n"
     ]
    }
   ],
   "source": [
    "vuelo1.mostrarInformacion()"
   ]
  },
  {
   "cell_type": "code",
   "execution_count": null,
   "metadata": {},
   "outputs": [],
   "source": [
    "pasajero2=Pasajero(\"Alejandro\", \"Paz\", 22, \"NA\")"
   ]
  },
  {
   "cell_type": "code",
   "execution_count": null,
   "metadata": {},
   "outputs": [
    {
     "name": "stdout",
     "output_type": "stream",
     "text": [
      "El pasajero Alejandro con pasaporte NA no tiene una reserva en el vuelo HK123\n"
     ]
    }
   ],
   "source": [
    "vuelo1.removerAsiento(pasajero2)"
   ]
  }
 ],
 "metadata": {
  "kernelspec": {
   "display_name": "Python 3",
   "language": "python",
   "name": "python3"
  },
  "language_info": {
   "codemirror_mode": {
    "name": "ipython",
    "version": 3
   },
   "file_extension": ".py",
   "mimetype": "text/x-python",
   "name": "python",
   "nbconvert_exporter": "python",
   "pygments_lexer": "ipython3",
   "version": "3.11.3"
  },
  "orig_nbformat": 4
 },
 "nbformat": 4,
 "nbformat_minor": 2
}
